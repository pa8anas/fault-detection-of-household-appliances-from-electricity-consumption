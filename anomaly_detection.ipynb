{
  "nbformat": 4,
  "nbformat_minor": 0,
  "metadata": {
    "colab": {
      "provenance": [],
      "authorship_tag": "ABX9TyOL03COb6Tjpb4F/w1EU9ng",
      "include_colab_link": true
    },
    "kernelspec": {
      "name": "python3",
      "display_name": "Python 3"
    },
    "language_info": {
      "name": "python"
    }
  },
  "cells": [
    {
      "cell_type": "markdown",
      "metadata": {
        "id": "view-in-github",
        "colab_type": "text"
      },
      "source": [
        "<a href=\"https://colab.research.google.com/github/pa8anas/fault-detection-of-household-appliances-from-electricity-consumption/blob/main/anomaly_detection.ipynb\" target=\"_parent\"><img src=\"https://colab.research.google.com/assets/colab-badge.svg\" alt=\"Open In Colab\"/></a>"
      ]
    },
    {
      "cell_type": "code",
      "source": [
        "import os\n",
        "import sys\n",
        "import random\n",
        "import numpy as np\n",
        "import pandas as pd\n",
        "import matplotlib.pyplot as plt"
      ],
      "metadata": {
        "id": "IYd4w5aSxGfo"
      },
      "execution_count": 16,
      "outputs": []
    },
    {
      "cell_type": "code",
      "source": [
        "#/content/drive/MyDrive/DRED.csv\n",
        "from google.colab import drive\n",
        "drive.mount('/content/drive')\n",
        "path = \"./content/drive/MyDrive/DRED.h5\""
      ],
      "metadata": {
        "colab": {
          "base_uri": "https://localhost:8080/"
        },
        "id": "gMl7CP9bFBWZ",
        "outputId": "91b5a651-3cd8-4d64-83bc-b65e455e05eb"
      },
      "execution_count": 17,
      "outputs": [
        {
          "output_type": "stream",
          "name": "stdout",
          "text": [
            "Drive already mounted at /content/drive; to attempt to forcibly remount, call drive.mount(\"/content/drive\", force_remount=True).\n"
          ]
        }
      ]
    },
    {
      "cell_type": "code",
      "source": [
        "!pip install -U https://github.com/nilmtk/nilmtk/archive/master.zip#egg=nilmtk"
      ],
      "metadata": {
        "colab": {
          "base_uri": "https://localhost:8080/"
        },
        "id": "em1aKsnUaPB0",
        "outputId": "ca0870e9-39cc-4702-aed1-30a749e54a1f"
      },
      "execution_count": 18,
      "outputs": [
        {
          "output_type": "stream",
          "name": "stdout",
          "text": [
            "Looking in indexes: https://pypi.org/simple, https://us-python.pkg.dev/colab-wheels/public/simple/\n",
            "Collecting nilmtk\n",
            "  Using cached https://github.com/nilmtk/nilmtk/archive/master.zip\n",
            "  Preparing metadata (setup.py) ... \u001b[?25l\u001b[?25hdone\n",
            "Requirement already satisfied: pandas==0.25.3 in /usr/local/lib/python3.8/dist-packages (from nilmtk) (0.25.3)\n",
            "Requirement already satisfied: numpy<1.20.0,>=1.13.3 in /usr/local/lib/python3.8/dist-packages (from nilmtk) (1.19.5)\n",
            "Requirement already satisfied: networkx==2.1 in /usr/local/lib/python3.8/dist-packages (from nilmtk) (2.1)\n",
            "Requirement already satisfied: scipy in /usr/local/lib/python3.8/dist-packages (from nilmtk) (1.7.3)\n",
            "Requirement already satisfied: tables in /usr/local/lib/python3.8/dist-packages (from nilmtk) (3.7.0)\n",
            "Requirement already satisfied: scikit-learn>=0.21.2 in /usr/local/lib/python3.8/dist-packages (from nilmtk) (1.0.2)\n",
            "Requirement already satisfied: hmmlearn>=0.2.1 in /usr/local/lib/python3.8/dist-packages (from nilmtk) (0.2.8)\n",
            "Requirement already satisfied: pyyaml in /usr/local/lib/python3.8/dist-packages (from nilmtk) (6.0)\n",
            "Requirement already satisfied: matplotlib==3.1.3 in /usr/local/lib/python3.8/dist-packages (from nilmtk) (3.1.3)\n",
            "Requirement already satisfied: jupyterlab in /usr/local/lib/python3.8/dist-packages (from nilmtk) (3.6.1)\n",
            "Requirement already satisfied: cycler>=0.10 in /usr/local/lib/python3.8/dist-packages (from matplotlib==3.1.3->nilmtk) (0.11.0)\n",
            "Requirement already satisfied: python-dateutil>=2.1 in /usr/local/lib/python3.8/dist-packages (from matplotlib==3.1.3->nilmtk) (2.8.2)\n",
            "Requirement already satisfied: kiwisolver>=1.0.1 in /usr/local/lib/python3.8/dist-packages (from matplotlib==3.1.3->nilmtk) (1.4.4)\n",
            "Requirement already satisfied: pyparsing!=2.0.4,!=2.1.2,!=2.1.6,>=2.0.1 in /usr/local/lib/python3.8/dist-packages (from matplotlib==3.1.3->nilmtk) (3.0.9)\n",
            "Requirement already satisfied: decorator>=4.1.0 in /usr/local/lib/python3.8/dist-packages (from networkx==2.1->nilmtk) (4.4.2)\n",
            "Requirement already satisfied: pytz>=2017.2 in /usr/local/lib/python3.8/dist-packages (from pandas==0.25.3->nilmtk) (2022.7.1)\n",
            "Requirement already satisfied: threadpoolctl>=2.0.0 in /usr/local/lib/python3.8/dist-packages (from scikit-learn>=0.21.2->nilmtk) (3.1.0)\n",
            "Requirement already satisfied: joblib>=0.11 in /usr/local/lib/python3.8/dist-packages (from scikit-learn>=0.21.2->nilmtk) (1.2.0)\n",
            "Requirement already satisfied: packaging in /usr/local/lib/python3.8/dist-packages (from jupyterlab->nilmtk) (23.0)\n",
            "Requirement already satisfied: jupyterlab-server~=2.19 in /usr/local/lib/python3.8/dist-packages (from jupyterlab->nilmtk) (2.19.0)\n",
            "Requirement already satisfied: jupyter-server-ydoc<0.7.0,>=0.6.0 in /usr/local/lib/python3.8/dist-packages (from jupyterlab->nilmtk) (0.6.1)\n",
            "Requirement already satisfied: jinja2>=2.1 in /usr/local/lib/python3.8/dist-packages (from jupyterlab->nilmtk) (3.1.2)\n",
            "Requirement already satisfied: jupyter-server<3,>=1.16.0 in /usr/local/lib/python3.8/dist-packages (from jupyterlab->nilmtk) (2.3.0)\n",
            "Requirement already satisfied: jupyter-ydoc~=0.2.2 in /usr/local/lib/python3.8/dist-packages (from jupyterlab->nilmtk) (0.2.2)\n",
            "Requirement already satisfied: tomli in /usr/local/lib/python3.8/dist-packages (from jupyterlab->nilmtk) (2.0.1)\n",
            "Requirement already satisfied: tornado>=6.1.0 in /usr/local/lib/python3.8/dist-packages (from jupyterlab->nilmtk) (6.2)\n",
            "Requirement already satisfied: nbclassic in /usr/local/lib/python3.8/dist-packages (from jupyterlab->nilmtk) (0.5.2)\n",
            "Requirement already satisfied: notebook<7 in /usr/local/lib/python3.8/dist-packages (from jupyterlab->nilmtk) (6.3.0)\n",
            "Requirement already satisfied: ipython in /usr/local/lib/python3.8/dist-packages (from jupyterlab->nilmtk) (7.9.0)\n",
            "Requirement already satisfied: jupyter-core in /usr/local/lib/python3.8/dist-packages (from jupyterlab->nilmtk) (5.2.0)\n",
            "Requirement already satisfied: numexpr>=2.6.2 in /usr/local/lib/python3.8/dist-packages (from tables->nilmtk) (2.8.4)\n",
            "Requirement already satisfied: MarkupSafe>=2.0 in /usr/local/lib/python3.8/dist-packages (from jinja2>=2.1->jupyterlab->nilmtk) (2.0.1)\n",
            "Requirement already satisfied: jupyter-events>=0.4.0 in /usr/local/lib/python3.8/dist-packages (from jupyter-server<3,>=1.16.0->jupyterlab->nilmtk) (0.6.3)\n",
            "Requirement already satisfied: terminado>=0.8.3 in /usr/local/lib/python3.8/dist-packages (from jupyter-server<3,>=1.16.0->jupyterlab->nilmtk) (0.13.3)\n",
            "Requirement already satisfied: pyzmq>=24 in /usr/local/lib/python3.8/dist-packages (from jupyter-server<3,>=1.16.0->jupyterlab->nilmtk) (25.0.0)\n",
            "Requirement already satisfied: nbformat>=5.3.0 in /usr/local/lib/python3.8/dist-packages (from jupyter-server<3,>=1.16.0->jupyterlab->nilmtk) (5.7.3)\n",
            "Requirement already satisfied: nbconvert>=6.4.4 in /usr/local/lib/python3.8/dist-packages (from jupyter-server<3,>=1.16.0->jupyterlab->nilmtk) (7.2.9)\n",
            "Requirement already satisfied: send2trash in /usr/local/lib/python3.8/dist-packages (from jupyter-server<3,>=1.16.0->jupyterlab->nilmtk) (1.8.0)\n",
            "Requirement already satisfied: websocket-client in /usr/local/lib/python3.8/dist-packages (from jupyter-server<3,>=1.16.0->jupyterlab->nilmtk) (1.5.1)\n",
            "Requirement already satisfied: anyio>=3.1.0 in /usr/local/lib/python3.8/dist-packages (from jupyter-server<3,>=1.16.0->jupyterlab->nilmtk) (3.6.2)\n",
            "Requirement already satisfied: prometheus-client in /usr/local/lib/python3.8/dist-packages (from jupyter-server<3,>=1.16.0->jupyterlab->nilmtk) (0.16.0)\n",
            "Requirement already satisfied: jupyter-client>=7.4.4 in /usr/local/lib/python3.8/dist-packages (from jupyter-server<3,>=1.16.0->jupyterlab->nilmtk) (8.0.3)\n",
            "Requirement already satisfied: traitlets>=5.6.0 in /usr/local/lib/python3.8/dist-packages (from jupyter-server<3,>=1.16.0->jupyterlab->nilmtk) (5.7.1)\n",
            "Requirement already satisfied: jupyter-server-terminals in /usr/local/lib/python3.8/dist-packages (from jupyter-server<3,>=1.16.0->jupyterlab->nilmtk) (0.4.4)\n",
            "Requirement already satisfied: argon2-cffi in /usr/local/lib/python3.8/dist-packages (from jupyter-server<3,>=1.16.0->jupyterlab->nilmtk) (21.3.0)\n",
            "Requirement already satisfied: platformdirs>=2.5 in /usr/local/lib/python3.8/dist-packages (from jupyter-core->jupyterlab->nilmtk) (3.0.0)\n",
            "Requirement already satisfied: ypy-websocket<0.9.0,>=0.8.2 in /usr/local/lib/python3.8/dist-packages (from jupyter-server-ydoc<0.7.0,>=0.6.0->jupyterlab->nilmtk) (0.8.2)\n",
            "Requirement already satisfied: jupyter-server-fileid<1,>=0.6.0 in /usr/local/lib/python3.8/dist-packages (from jupyter-server-ydoc<0.7.0,>=0.6.0->jupyterlab->nilmtk) (0.7.0)\n",
            "Requirement already satisfied: y-py<0.6.0,>=0.5.3 in /usr/local/lib/python3.8/dist-packages (from jupyter-ydoc~=0.2.2->jupyterlab->nilmtk) (0.5.9)\n",
            "Requirement already satisfied: importlib-metadata>=3.6 in /usr/local/lib/python3.8/dist-packages (from jupyter-ydoc~=0.2.2->jupyterlab->nilmtk) (6.0.0)\n",
            "Requirement already satisfied: json5>=0.9.0 in /usr/local/lib/python3.8/dist-packages (from jupyterlab-server~=2.19->jupyterlab->nilmtk) (0.9.11)\n",
            "Requirement already satisfied: babel>=2.10 in /usr/local/lib/python3.8/dist-packages (from jupyterlab-server~=2.19->jupyterlab->nilmtk) (2.11.0)\n",
            "Requirement already satisfied: jsonschema>=4.17.3 in /usr/local/lib/python3.8/dist-packages (from jupyterlab-server~=2.19->jupyterlab->nilmtk) (4.17.3)\n",
            "Requirement already satisfied: requests>=2.28 in /usr/local/lib/python3.8/dist-packages (from jupyterlab-server~=2.19->jupyterlab->nilmtk) (2.28.2)\n",
            "Requirement already satisfied: ipython-genutils in /usr/local/lib/python3.8/dist-packages (from notebook<7->jupyterlab->nilmtk) (0.2.0)\n",
            "Requirement already satisfied: ipykernel in /usr/local/lib/python3.8/dist-packages (from notebook<7->jupyterlab->nilmtk) (5.3.4)\n",
            "Requirement already satisfied: six>=1.5 in /usr/local/lib/python3.8/dist-packages (from python-dateutil>=2.1->matplotlib==3.1.3->nilmtk) (1.15.0)\n",
            "Requirement already satisfied: prompt-toolkit<2.1.0,>=2.0.0 in /usr/local/lib/python3.8/dist-packages (from ipython->jupyterlab->nilmtk) (2.0.10)\n",
            "Requirement already satisfied: pexpect in /usr/local/lib/python3.8/dist-packages (from ipython->jupyterlab->nilmtk) (4.8.0)\n",
            "Requirement already satisfied: pickleshare in /usr/local/lib/python3.8/dist-packages (from ipython->jupyterlab->nilmtk) (0.7.5)\n",
            "Requirement already satisfied: pygments in /usr/local/lib/python3.8/dist-packages (from ipython->jupyterlab->nilmtk) (2.6.1)\n",
            "Requirement already satisfied: setuptools>=18.5 in /usr/local/lib/python3.8/dist-packages (from ipython->jupyterlab->nilmtk) (57.4.0)\n",
            "Requirement already satisfied: jedi>=0.10 in /usr/local/lib/python3.8/dist-packages (from ipython->jupyterlab->nilmtk) (0.18.2)\n",
            "Requirement already satisfied: backcall in /usr/local/lib/python3.8/dist-packages (from ipython->jupyterlab->nilmtk) (0.2.0)\n",
            "Requirement already satisfied: nest-asyncio>=1.5 in /usr/local/lib/python3.8/dist-packages (from nbclassic->jupyterlab->nilmtk) (1.5.6)\n",
            "Requirement already satisfied: notebook-shim>=0.1.0 in /usr/local/lib/python3.8/dist-packages (from nbclassic->jupyterlab->nilmtk) (0.2.2)\n",
            "Requirement already satisfied: idna>=2.8 in /usr/local/lib/python3.8/dist-packages (from anyio>=3.1.0->jupyter-server<3,>=1.16.0->jupyterlab->nilmtk) (2.10)\n",
            "Requirement already satisfied: sniffio>=1.1 in /usr/local/lib/python3.8/dist-packages (from anyio>=3.1.0->jupyter-server<3,>=1.16.0->jupyterlab->nilmtk) (1.3.0)\n",
            "Requirement already satisfied: zipp>=0.5 in /usr/local/lib/python3.8/dist-packages (from importlib-metadata>=3.6->jupyter-ydoc~=0.2.2->jupyterlab->nilmtk) (3.13.0)\n",
            "Requirement already satisfied: parso<0.9.0,>=0.8.0 in /usr/local/lib/python3.8/dist-packages (from jedi>=0.10->ipython->jupyterlab->nilmtk) (0.8.3)\n",
            "Requirement already satisfied: pkgutil-resolve-name>=1.3.10 in /usr/local/lib/python3.8/dist-packages (from jsonschema>=4.17.3->jupyterlab-server~=2.19->jupyterlab->nilmtk) (1.3.10)\n",
            "Requirement already satisfied: importlib-resources>=1.4.0 in /usr/local/lib/python3.8/dist-packages (from jsonschema>=4.17.3->jupyterlab-server~=2.19->jupyterlab->nilmtk) (5.10.2)\n",
            "Requirement already satisfied: attrs>=17.4.0 in /usr/local/lib/python3.8/dist-packages (from jsonschema>=4.17.3->jupyterlab-server~=2.19->jupyterlab->nilmtk) (22.2.0)\n",
            "Requirement already satisfied: pyrsistent!=0.17.0,!=0.17.1,!=0.17.2,>=0.14.0 in /usr/local/lib/python3.8/dist-packages (from jsonschema>=4.17.3->jupyterlab-server~=2.19->jupyterlab->nilmtk) (0.19.3)\n",
            "Requirement already satisfied: rfc3986-validator>=0.1.1 in /usr/local/lib/python3.8/dist-packages (from jupyter-events>=0.4.0->jupyter-server<3,>=1.16.0->jupyterlab->nilmtk) (0.1.1)\n",
            "Requirement already satisfied: rfc3339-validator in /usr/local/lib/python3.8/dist-packages (from jupyter-events>=0.4.0->jupyter-server<3,>=1.16.0->jupyterlab->nilmtk) (0.1.4)\n",
            "Requirement already satisfied: python-json-logger>=2.0.4 in /usr/local/lib/python3.8/dist-packages (from jupyter-events>=0.4.0->jupyter-server<3,>=1.16.0->jupyterlab->nilmtk) (2.0.7)\n",
            "Requirement already satisfied: bleach in /usr/local/lib/python3.8/dist-packages (from nbconvert>=6.4.4->jupyter-server<3,>=1.16.0->jupyterlab->nilmtk) (6.0.0)\n",
            "Requirement already satisfied: jupyterlab-pygments in /usr/local/lib/python3.8/dist-packages (from nbconvert>=6.4.4->jupyter-server<3,>=1.16.0->jupyterlab->nilmtk) (0.2.2)\n",
            "Requirement already satisfied: beautifulsoup4 in /usr/local/lib/python3.8/dist-packages (from nbconvert>=6.4.4->jupyter-server<3,>=1.16.0->jupyterlab->nilmtk) (4.6.3)\n",
            "Requirement already satisfied: tinycss2 in /usr/local/lib/python3.8/dist-packages (from nbconvert>=6.4.4->jupyter-server<3,>=1.16.0->jupyterlab->nilmtk) (1.2.1)\n",
            "Requirement already satisfied: mistune<3,>=2.0.3 in /usr/local/lib/python3.8/dist-packages (from nbconvert>=6.4.4->jupyter-server<3,>=1.16.0->jupyterlab->nilmtk) (2.0.5)\n",
            "Requirement already satisfied: defusedxml in /usr/local/lib/python3.8/dist-packages (from nbconvert>=6.4.4->jupyter-server<3,>=1.16.0->jupyterlab->nilmtk) (0.7.1)\n",
            "Requirement already satisfied: pandocfilters>=1.4.1 in /usr/local/lib/python3.8/dist-packages (from nbconvert>=6.4.4->jupyter-server<3,>=1.16.0->jupyterlab->nilmtk) (1.5.0)\n",
            "Requirement already satisfied: nbclient>=0.5.0 in /usr/local/lib/python3.8/dist-packages (from nbconvert>=6.4.4->jupyter-server<3,>=1.16.0->jupyterlab->nilmtk) (0.7.2)\n",
            "Requirement already satisfied: fastjsonschema in /usr/local/lib/python3.8/dist-packages (from nbformat>=5.3.0->jupyter-server<3,>=1.16.0->jupyterlab->nilmtk) (2.16.2)\n",
            "Requirement already satisfied: wcwidth in /usr/local/lib/python3.8/dist-packages (from prompt-toolkit<2.1.0,>=2.0.0->ipython->jupyterlab->nilmtk) (0.2.6)\n",
            "Requirement already satisfied: urllib3<1.27,>=1.21.1 in /usr/local/lib/python3.8/dist-packages (from requests>=2.28->jupyterlab-server~=2.19->jupyterlab->nilmtk) (1.24.3)\n",
            "Requirement already satisfied: charset-normalizer<4,>=2 in /usr/local/lib/python3.8/dist-packages (from requests>=2.28->jupyterlab-server~=2.19->jupyterlab->nilmtk) (3.0.1)\n",
            "Requirement already satisfied: certifi>=2017.4.17 in /usr/local/lib/python3.8/dist-packages (from requests>=2.28->jupyterlab-server~=2.19->jupyterlab->nilmtk) (2022.12.7)\n",
            "Requirement already satisfied: ptyprocess in /usr/local/lib/python3.8/dist-packages (from terminado>=0.8.3->jupyter-server<3,>=1.16.0->jupyterlab->nilmtk) (0.7.0)\n",
            "Requirement already satisfied: aiofiles<23,>=22.1.0 in /usr/local/lib/python3.8/dist-packages (from ypy-websocket<0.9.0,>=0.8.2->jupyter-server-ydoc<0.7.0,>=0.6.0->jupyterlab->nilmtk) (22.1.0)\n",
            "Requirement already satisfied: aiosqlite<1,>=0.17.0 in /usr/local/lib/python3.8/dist-packages (from ypy-websocket<0.9.0,>=0.8.2->jupyter-server-ydoc<0.7.0,>=0.6.0->jupyterlab->nilmtk) (0.18.0)\n",
            "Requirement already satisfied: argon2-cffi-bindings in /usr/local/lib/python3.8/dist-packages (from argon2-cffi->jupyter-server<3,>=1.16.0->jupyterlab->nilmtk) (21.2.0)\n",
            "Requirement already satisfied: uri-template in /usr/local/lib/python3.8/dist-packages (from jsonschema>=4.17.3->jupyterlab-server~=2.19->jupyterlab->nilmtk) (1.2.0)\n",
            "Requirement already satisfied: webcolors>=1.11 in /usr/local/lib/python3.8/dist-packages (from jsonschema>=4.17.3->jupyterlab-server~=2.19->jupyterlab->nilmtk) (1.12)\n",
            "Requirement already satisfied: fqdn in /usr/local/lib/python3.8/dist-packages (from jsonschema>=4.17.3->jupyterlab-server~=2.19->jupyterlab->nilmtk) (1.5.1)\n",
            "Requirement already satisfied: isoduration in /usr/local/lib/python3.8/dist-packages (from jsonschema>=4.17.3->jupyterlab-server~=2.19->jupyterlab->nilmtk) (20.11.0)\n",
            "Requirement already satisfied: jsonpointer>1.13 in /usr/local/lib/python3.8/dist-packages (from jsonschema>=4.17.3->jupyterlab-server~=2.19->jupyterlab->nilmtk) (2.3)\n",
            "Requirement already satisfied: cffi>=1.0.1 in /usr/local/lib/python3.8/dist-packages (from argon2-cffi-bindings->argon2-cffi->jupyter-server<3,>=1.16.0->jupyterlab->nilmtk) (1.15.1)\n",
            "Requirement already satisfied: webencodings in /usr/local/lib/python3.8/dist-packages (from bleach->nbconvert>=6.4.4->jupyter-server<3,>=1.16.0->jupyterlab->nilmtk) (0.5.1)\n",
            "Requirement already satisfied: pycparser in /usr/local/lib/python3.8/dist-packages (from cffi>=1.0.1->argon2-cffi-bindings->argon2-cffi->jupyter-server<3,>=1.16.0->jupyterlab->nilmtk) (2.21)\n",
            "Requirement already satisfied: arrow>=0.15.0 in /usr/local/lib/python3.8/dist-packages (from isoduration->jsonschema>=4.17.3->jupyterlab-server~=2.19->jupyterlab->nilmtk) (1.2.3)\n"
          ]
        }
      ]
    },
    {
      "cell_type": "code",
      "source": [
        "!pip install -U https://github.com/nilmtk/nilm_metadata/archive/master.zip#egg=nilm_metadata"
      ],
      "metadata": {
        "colab": {
          "base_uri": "https://localhost:8080/"
        },
        "id": "OAVLsLAwaP9z",
        "outputId": "37bb8776-f614-43d8-c3e6-11741e8f9e7a"
      },
      "execution_count": 5,
      "outputs": [
        {
          "output_type": "stream",
          "name": "stdout",
          "text": [
            "Looking in indexes: https://pypi.org/simple, https://us-python.pkg.dev/colab-wheels/public/simple/\n",
            "Collecting nilm_metadata\n",
            "  Using cached https://github.com/nilmtk/nilm_metadata/archive/master.zip\n",
            "  Preparing metadata (setup.py) ... \u001b[?25l\u001b[?25hdone\n",
            "Requirement already satisfied: PyYAML in /usr/local/lib/python3.8/dist-packages (from nilm_metadata) (6.0)\n",
            "Requirement already satisfied: six in /usr/local/lib/python3.8/dist-packages (from nilm_metadata) (1.15.0)\n",
            "Requirement already satisfied: pandas in /usr/local/lib/python3.8/dist-packages (from nilm_metadata) (0.25.3)\n",
            "Requirement already satisfied: numpy>=1.13.3 in /usr/local/lib/python3.8/dist-packages (from pandas->nilm_metadata) (1.19.5)\n",
            "Requirement already satisfied: python-dateutil>=2.6.1 in /usr/local/lib/python3.8/dist-packages (from pandas->nilm_metadata) (2.8.2)\n",
            "Requirement already satisfied: pytz>=2017.2 in /usr/local/lib/python3.8/dist-packages (from pandas->nilm_metadata) (2022.7.1)\n"
          ]
        }
      ]
    },
    {
      "cell_type": "code",
      "source": [
        "import warnings; warnings.filterwarnings('ignore')\n",
        "\n",
        "from nilmtk import DataSet\n",
        "train = DataSet('/content/drive/MyDrive/Dataset Diplwmatikh/ukdale.h5')\n",
        "#train = DataSet('/content/drive/MyDrive/DRED.h5')\n",
        "train.set_window(end=\"05-1-2013\") #Use data only until 5/1/2015\n",
        "train_elec = train.buildings[1].elec"
      ],
      "metadata": {
        "id": "pLzV4Jl0F4ht"
      },
      "execution_count": 40,
      "outputs": []
    },
    {
      "cell_type": "code",
      "source": [
        "print(train_elec)"
      ],
      "metadata": {
        "colab": {
          "base_uri": "https://localhost:8080/"
        },
        "id": "1vvd88m41fvE",
        "outputId": "0f6d2b6e-fa6b-4b12-bbd0-e6464e54b826"
      },
      "execution_count": 41,
      "outputs": [
        {
          "output_type": "stream",
          "name": "stdout",
          "text": [
            "MeterGroup(meters=\n",
            "  ElecMeter(instance=2, building=1, dataset='UK-DALE', appliances=[Appliance(type='boiler', instance=1)])\n",
            "  ElecMeter(instance=3, building=1, dataset='UK-DALE', appliances=[Appliance(type='solar thermal pumping station', instance=1)])\n",
            "  ElecMeter(instance=4, building=1, dataset='UK-DALE', appliances=[Appliance(type='laptop computer', instance=1), Appliance(type='laptop computer', instance=3)])\n",
            "  ElecMeter(instance=5, building=1, dataset='UK-DALE', appliances=[Appliance(type='washer dryer', instance=1), Appliance(type='washer dryer', instance=2)])\n",
            "  ElecMeter(instance=6, building=1, dataset='UK-DALE', appliances=[Appliance(type='dish washer', instance=1)])\n",
            "  ElecMeter(instance=7, building=1, dataset='UK-DALE', appliances=[Appliance(type='television', instance=1)])\n",
            "  ElecMeter(instance=8, building=1, dataset='UK-DALE', appliances=[Appliance(type='light', instance=1), Appliance(type='light', instance=2)])\n",
            "  ElecMeter(instance=9, building=1, dataset='UK-DALE', appliances=[Appliance(type='HTPC', instance=1)])\n",
            "  ElecMeter(instance=10, building=1, dataset='UK-DALE', appliances=[Appliance(type='kettle', instance=1), Appliance(type='food processor', instance=1), Appliance(type='toasted sandwich maker', instance=1)])\n",
            "  ElecMeter(instance=11, building=1, dataset='UK-DALE', appliances=[Appliance(type='toaster', instance=1), Appliance(type='kitchen aid', instance=1), Appliance(type='food processor', instance=2)])\n",
            "  ElecMeter(instance=12, building=1, dataset='UK-DALE', appliances=[Appliance(type='fridge freezer', instance=1)])\n",
            "  ElecMeter(instance=13, building=1, dataset='UK-DALE', appliances=[Appliance(type='microwave', instance=1)])\n",
            "  ElecMeter(instance=14, building=1, dataset='UK-DALE', appliances=[Appliance(type='computer monitor', instance=1)])\n",
            "  ElecMeter(instance=15, building=1, dataset='UK-DALE', appliances=[Appliance(type='audio system', instance=1)])\n",
            "  ElecMeter(instance=16, building=1, dataset='UK-DALE', appliances=[Appliance(type='breadmaker', instance=1)])\n",
            "  ElecMeter(instance=17, building=1, dataset='UK-DALE', appliances=[Appliance(type='audio amplifier', instance=1)])\n",
            "  ElecMeter(instance=18, building=1, dataset='UK-DALE', appliances=[Appliance(type='broadband router', instance=1), Appliance(type='broadband router', instance=2)])\n",
            "  ElecMeter(instance=19, building=1, dataset='UK-DALE', appliances=[Appliance(type='light', instance=3), Appliance(type='bouncy castle pump', instance=1)])\n",
            "  ElecMeter(instance=20, building=1, dataset='UK-DALE', appliances=[Appliance(type='soldering iron', instance=1)])\n",
            "  ElecMeter(instance=21, building=1, dataset='UK-DALE', appliances=[Appliance(type='ethernet switch', instance=1), Appliance(type='USB hub', instance=1)])\n",
            "  ElecMeter(instance=22, building=1, dataset='UK-DALE', appliances=[Appliance(type='vacuum cleaner', instance=1)])\n",
            "  ElecMeter(instance=23, building=1, dataset='UK-DALE', appliances=[Appliance(type='light', instance=4)])\n",
            "  ElecMeter(instance=24, building=1, dataset='UK-DALE', appliances=[Appliance(type='light', instance=5)])\n",
            "  ElecMeter(instance=25, building=1, dataset='UK-DALE', appliances=[Appliance(type='light', instance=16)])\n",
            "  ElecMeter(instance=26, building=1, dataset='UK-DALE', appliances=[Appliance(type='light', instance=6)])\n",
            "  ElecMeter(instance=27, building=1, dataset='UK-DALE', appliances=[Appliance(type='tablet computer charger', instance=1)])\n",
            "  ElecMeter(instance=28, building=1, dataset='UK-DALE', appliances=[Appliance(type='active subwoofer', instance=1)])\n",
            "  ElecMeter(instance=29, building=1, dataset='UK-DALE', appliances=[Appliance(type='light', instance=7)])\n",
            "  ElecMeter(instance=30, building=1, dataset='UK-DALE', appliances=[Appliance(type='radio', instance=1)])\n",
            "  ElecMeter(instance=31, building=1, dataset='UK-DALE', appliances=[Appliance(type='light', instance=8)])\n",
            "  ElecMeter(instance=32, building=1, dataset='UK-DALE', appliances=[Appliance(type='wireless phone charger', instance=1), Appliance(type='audio system', instance=2)])\n",
            "  ElecMeter(instance=33, building=1, dataset='UK-DALE', appliances=[Appliance(type='light', instance=9)])\n",
            "  ElecMeter(instance=34, building=1, dataset='UK-DALE', appliances=[Appliance(type='mobile phone charger', instance=1)])\n",
            "  ElecMeter(instance=35, building=1, dataset='UK-DALE', appliances=[Appliance(type='light', instance=10)])\n",
            "  ElecMeter(instance=36, building=1, dataset='UK-DALE', appliances=[Appliance(type='coffee maker', instance=1)])\n",
            "  ElecMeter(instance=37, building=1, dataset='UK-DALE', appliances=[Appliance(type='radio', instance=2)])\n",
            "  ElecMeter(instance=38, building=1, dataset='UK-DALE', appliances=[Appliance(type='mobile phone charger', instance=2), Appliance(type='baby monitor', instance=2), Appliance(type='radio', instance=3)])\n",
            "  ElecMeter(instance=39, building=1, dataset='UK-DALE', appliances=[Appliance(type='hair dryer', instance=1)])\n",
            "  ElecMeter(instance=40, building=1, dataset='UK-DALE', appliances=[Appliance(type='hair straighteners', instance=1)])\n",
            "  ElecMeter(instance=41, building=1, dataset='UK-DALE', appliances=[Appliance(type='clothes iron', instance=1)])\n",
            "  ElecMeter(instance=42, building=1, dataset='UK-DALE', appliances=[Appliance(type='oven', instance=1)])\n",
            "  ElecMeter(instance=43, building=1, dataset='UK-DALE', appliances=[Appliance(type='computer', instance=1), Appliance(type='external hard disk', instance=1)])\n",
            "  ElecMeter(instance=44, building=1, dataset='UK-DALE', appliances=[Appliance(type='light', instance=11)])\n",
            "  ElecMeter(instance=45, building=1, dataset='UK-DALE', appliances=[Appliance(type='light', instance=12)])\n",
            "  ElecMeter(instance=46, building=1, dataset='UK-DALE', appliances=[Appliance(type='baby monitor', instance=1)])\n",
            "  ElecMeter(instance=47, building=1, dataset='UK-DALE', appliances=[Appliance(type='charger', instance=1)])\n",
            "  ElecMeter(instance=48, building=1, dataset='UK-DALE', appliances=[Appliance(type='light', instance=13)])\n",
            "  ElecMeter(instance=49, building=1, dataset='UK-DALE', appliances=[Appliance(type='light', instance=14)])\n",
            "  ElecMeter(instance=50, building=1, dataset='UK-DALE', appliances=[Appliance(type='light', instance=15)])\n",
            "  ElecMeter(instance=51, building=1, dataset='UK-DALE', appliances=[Appliance(type='desktop computer', instance=1)])\n",
            "  ElecMeter(instance=52, building=1, dataset='UK-DALE', appliances=[Appliance(type='fan', instance=1)])\n",
            "  ElecMeter(instance=53, building=1, dataset='UK-DALE', appliances=[Appliance(type='printer', instance=1)])\n",
            "  ElecMeter(instance=54, building=1, dataset='UK-DALE', site_meter, appliances=[Appliance(type='immersion heater', instance=1), Appliance(type='water pump', instance=1), Appliance(type='security alarm', instance=1), Appliance(type='fan', instance=2), Appliance(type='drill', instance=1), Appliance(type='laptop computer', instance=2)])\n",
            ")\n"
          ]
        }
      ]
    },
    {
      "cell_type": "code",
      "source": [
        "train_mains = train_elec.mains() # The aggregated meter that provides the input\n",
        "#train_mains = train_elec.mains().power_series_all_data()\n",
        "#train_mains = np.array(list(train_elec.mains().power_series_all_data()))\n",
        "\n",
        "print(train_elec.mains().power_series_all_data().head())\n",
        "#print(train_elec.submeters())\n",
        "train_meter = train_elec.submeters()['microwave'] # The microwave meter that is used as a training target"
      ],
      "metadata": {
        "colab": {
          "base_uri": "https://localhost:8080/"
        },
        "id": "KBq7C6XXHVZ9",
        "outputId": "3a2738be-bf37-4dd0-acb0-f58e6cab508f"
      },
      "execution_count": 42,
      "outputs": [
        {
          "output_type": "stream",
          "name": "stdout",
          "text": [
            "2013-03-17 19:12:43.100000+00:00    337.880005\n",
            "2013-03-17 19:12:44.100000+00:00    339.429993\n",
            "2013-03-17 19:12:45.100000+00:00    340.630005\n",
            "2013-03-17 19:12:46.100000+00:00    338.799988\n",
            "2013-03-17 19:12:47.100000+00:00    340.880005\n",
            "Name: (power, active), dtype: float32\n"
          ]
        }
      ]
    },
    {
      "cell_type": "code",
      "source": [
        "def _normalize(chunk, mmax):\n",
        "    '''Normalizes timeseries\n",
        "\n",
        "    Parameters\n",
        "    ----------\n",
        "    chunk : the timeseries to normalize\n",
        "    max : max value of the powerseries\n",
        "\n",
        "    Returns: Normalized timeseries\n",
        "    '''\n",
        "    tchunk = chunk / mmax\n",
        "    return tchunk"
      ],
      "metadata": {
        "id": "g9dCgKHMImgq"
      },
      "execution_count": 43,
      "outputs": []
    },
    {
      "cell_type": "code",
      "source": [
        "import numpy as np\n",
        "def apply_on_chunk(mainchunk, meterchunk, epochs=5, batch_size=8, window_size=1):\n",
        "    '''Train using only one chunk\n",
        "\n",
        "    Parameters\n",
        "    ----------\n",
        "    mainchunk : chunk of site meter\n",
        "    meterchunk : chunk of appliance\n",
        "    epochs : number of epochs for training\n",
        "    batch_size : size of batch used for training\n",
        "    '''\n",
        "    \n",
        "    print(\"mainchunk  : \",np.shape(mainchunk))\n",
        "    \n",
        "    # Replace NaNs with 0s\n",
        "    mainchunk.fillna(0, inplace=True)\n",
        "    meterchunk.fillna(0, inplace=True)\n",
        "    #ix = mainchunk.index.intersection(meterchunk.index)\n",
        "    #mainchunk = np.array(mainchunk[ix])\n",
        "    #meterchunk = np.array(meterchunk[ix])\n",
        "\n",
        "    \n",
        "    print(\"mainchunk  : \",np.shape(mainchunk))\n",
        "    \n",
        "    \n",
        "    indexer = np.arange(window_size)[None, :] + np.arange(len(mainchunk)-window_size+1)[:, None]\n",
        "    mainchunk = mainchunk[indexer]\n",
        "    meterchunk = meterchunk[window_size-1:]\n",
        "    mainchunk = np.reshape(mainchunk, (mainchunk.shape[0], mainchunk.shape[1],1))\n",
        "\n",
        "    #self.model.fit(mainchunk, meterchunk, epochs=epochs, batch_size=batch_size, shuffle=True)\n",
        "    return mainchunk, meterchunk\n",
        "\n",
        "\n",
        "\n",
        "\n",
        "def convert_time(timestamp):\n",
        "    return pd.to_datetime(timestamp, unit='ms')\n",
        "\n",
        "def get_second(date):\n",
        "    return date.second\n",
        "\n",
        "def get_minute(date):\n",
        "    return date.minute\n",
        "\n",
        "def get_hour(date):\n",
        "    return date.hour\n",
        "\n",
        "def get_day(date):\n",
        "    return date.day\n",
        "\n",
        "def get_month(date):\n",
        "    return date.month\n",
        "\n",
        "def get_year(date):\n",
        "    return date.year"
      ],
      "metadata": {
        "id": "QNQ0CTD1Iqss"
      },
      "execution_count": 45,
      "outputs": []
    },
    {
      "cell_type": "code",
      "source": [
        "main_power_series  = train_mains.power_series()\n",
        "meter_power_series = train_meter.power_series()\n",
        "mmax = 1\n",
        "\n",
        "\n",
        "    \n",
        "# Train chunks\n",
        "run = True\n",
        "mainchunk = next(main_power_series)\n",
        "meterchunk = next(meter_power_series)\n",
        "if mmax == None:\n",
        "    mmax = mainchunk.max()\n",
        "\n",
        "while(run):\n",
        "    \n",
        "    mainchunk = _normalize(mainchunk, mmax)\n",
        "    meterchunk = _normalize(meterchunk, mmax)\n",
        "\n",
        "    #self.train_on_chunk(mainchunk, meterchunk, epochs, batch_size)\n",
        "    try:\n",
        "        mainchunk = next(main_power_series)\n",
        "        meterchunk = next(meter_power_series)\n",
        "        print(\"1\")\n",
        "        mainchunks, meterchunks = apply_on_chunk(mainchunk, meterchunk, epochs, batch_size)\n",
        "    except Exception as e:\n",
        "        print(e)\n",
        "        run = False"
      ],
      "metadata": {
        "colab": {
          "base_uri": "https://localhost:8080/"
        },
        "id": "cJoJPDNYIv5Z",
        "outputId": "6e44bd32-5790-4685-f15f-abbc2634ac7f"
      },
      "execution_count": 46,
      "outputs": [
        {
          "output_type": "stream",
          "name": "stdout",
          "text": [
            "\n"
          ]
        }
      ]
    },
    {
      "cell_type": "code",
      "source": [
        "mainchunks, meterchunks = apply_on_chunk(mainchunk, meterchunk)\n",
        "\n",
        "print(\"mainchunks  : \",np.shape(mainchunks))\n",
        "\n",
        "print(\"meterchunks : \",np.shape(meterchunks))"
      ],
      "metadata": {
        "colab": {
          "base_uri": "https://localhost:8080/"
        },
        "id": "IO0V_4uRFi4h",
        "outputId": "9ea33862-fbfc-4cb8-c624-43119fbedf6f"
      },
      "execution_count": 47,
      "outputs": [
        {
          "output_type": "stream",
          "name": "stdout",
          "text": [
            "mainchunk  :  (3633254,)\n",
            "mainchunk  :  (3633254,)\n",
            "mainchunks  :  (3633254, 1, 1)\n",
            "meterchunks :  (1508581,)\n"
          ]
        }
      ]
    },
    {
      "cell_type": "code",
      "source": [
        "df_main  = mainchunk.to_frame()  \n",
        "df_meter = meterchunk.to_frame()\n",
        "\n",
        "df_main['power appliance'] = df_meter\n",
        "\n",
        "df_main.columns =['power apparent','power appliance']\n",
        "\n",
        "df_meter = df_main['power appliance']\n",
        "\n",
        "\n",
        "\n",
        "df_main[\"power appliance\"].fillna(\"0\", inplace = True)\n",
        "df_main = df_main.reset_index()\n",
        "\n",
        "df_main.columns =['date','power apparent','power appliance']\n",
        "\n",
        "\n",
        "df_main['second']   = df_main['date'].apply(get_second)\n",
        "df_main['minute']   = df_main['date'].apply(get_minute)\n",
        "df_main['hour']   = df_main['date'].apply(get_hour)\n",
        "df_main['day']    = df_main['date'].apply(get_day)\n",
        "df_main['month']  = df_main['date'].apply(get_month)\n",
        "df_main['year']   = df_main['date'].apply(get_year)"
      ],
      "metadata": {
        "id": "SCK2OEXhTbw0"
      },
      "execution_count": 48,
      "outputs": []
    },
    {
      "cell_type": "code",
      "source": [
        "print(df_main)"
      ],
      "metadata": {
        "colab": {
          "base_uri": "https://localhost:8080/"
        },
        "id": "EgjdwLyzUCWY",
        "outputId": "d0c4af16-ae6d-4405-d338-8f00796b40f8"
      },
      "execution_count": 49,
      "outputs": [
        {
          "output_type": "stream",
          "name": "stdout",
          "text": [
            "                                    date  power apparent power appliance  \\\n",
            "0       2013-03-17 19:12:43.100000+00:00      337.880005               0   \n",
            "1       2013-03-17 19:12:44.100000+00:00      339.429993               0   \n",
            "2       2013-03-17 19:12:45.100000+00:00      340.630005               0   \n",
            "3       2013-03-17 19:12:46.100000+00:00      338.799988               0   \n",
            "4       2013-03-17 19:12:47.100000+00:00      340.880005               0   \n",
            "...                                  ...             ...             ...   \n",
            "3633249 2013-04-30 23:59:55.800000+01:00      205.539993               0   \n",
            "3633250 2013-04-30 23:59:56.800000+01:00      205.679993               0   \n",
            "3633251 2013-04-30 23:59:57.800000+01:00      206.070007               0   \n",
            "3633252 2013-04-30 23:59:58.800000+01:00      205.669998               0   \n",
            "3633253 2013-04-30 23:59:59.800000+01:00      205.860001               0   \n",
            "\n",
            "         second  minute  hour  day  month  year  \n",
            "0            43      12    19   17      3  2013  \n",
            "1            44      12    19   17      3  2013  \n",
            "2            45      12    19   17      3  2013  \n",
            "3            46      12    19   17      3  2013  \n",
            "4            47      12    19   17      3  2013  \n",
            "...         ...     ...   ...  ...    ...   ...  \n",
            "3633249      55      59    23   30      4  2013  \n",
            "3633250      56      59    23   30      4  2013  \n",
            "3633251      57      59    23   30      4  2013  \n",
            "3633252      58      59    23   30      4  2013  \n",
            "3633253      59      59    23   30      4  2013  \n",
            "\n",
            "[3633254 rows x 9 columns]\n"
          ]
        }
      ]
    },
    {
      "cell_type": "code",
      "source": [
        "df = df_main['date'].to_frame()\n",
        "df['year'] = df_main['year']\n",
        "df['month'] = df_main['month']\n",
        "df['day'] = df_main['day']\n",
        "df['hour'] = df_main['hour']\n",
        "df['minute'] = df_main['minute']\n",
        "df['second'] = df_main['second']\n",
        "df['power apparent'] = df_main['power apparent']\n",
        "df['power appliance'] = df_main['power appliance']"
      ],
      "metadata": {
        "id": "BiEOyGyuVHnG"
      },
      "execution_count": 50,
      "outputs": []
    },
    {
      "cell_type": "code",
      "source": [
        "df.head(10)"
      ],
      "metadata": {
        "colab": {
          "base_uri": "https://localhost:8080/",
          "height": 363
        },
        "id": "iwDgLbkJljwR",
        "outputId": "9d810e88-d1d5-494f-ec40-46a21fcf3971"
      },
      "execution_count": 51,
      "outputs": [
        {
          "output_type": "execute_result",
          "data": {
            "text/plain": [
              "                              date  year  month  day  hour  minute  second  \\\n",
              "0 2013-03-17 19:12:43.100000+00:00  2013      3   17    19      12      43   \n",
              "1 2013-03-17 19:12:44.100000+00:00  2013      3   17    19      12      44   \n",
              "2 2013-03-17 19:12:45.100000+00:00  2013      3   17    19      12      45   \n",
              "3 2013-03-17 19:12:46.100000+00:00  2013      3   17    19      12      46   \n",
              "4 2013-03-17 19:12:47.100000+00:00  2013      3   17    19      12      47   \n",
              "5 2013-03-17 19:12:48.100000+00:00  2013      3   17    19      12      48   \n",
              "6 2013-03-17 19:12:49.200000+00:00  2013      3   17    19      12      49   \n",
              "7 2013-03-17 19:12:50.100000+00:00  2013      3   17    19      12      50   \n",
              "8 2013-03-17 19:12:51.200000+00:00  2013      3   17    19      12      51   \n",
              "9 2013-03-17 19:12:52.100000+00:00  2013      3   17    19      12      52   \n",
              "\n",
              "   power apparent power appliance  \n",
              "0      337.880005               0  \n",
              "1      339.429993               0  \n",
              "2      340.630005               0  \n",
              "3      338.799988               0  \n",
              "4      340.880005               0  \n",
              "5      338.769989               0  \n",
              "6      340.190002               0  \n",
              "7      340.209991               0  \n",
              "8      338.489990               0  \n",
              "9      341.329987               0  "
            ],
            "text/html": [
              "\n",
              "  <div id=\"df-dfa47a30-4e4a-4624-9a71-400114c63518\">\n",
              "    <div class=\"colab-df-container\">\n",
              "      <div>\n",
              "<style scoped>\n",
              "    .dataframe tbody tr th:only-of-type {\n",
              "        vertical-align: middle;\n",
              "    }\n",
              "\n",
              "    .dataframe tbody tr th {\n",
              "        vertical-align: top;\n",
              "    }\n",
              "\n",
              "    .dataframe thead th {\n",
              "        text-align: right;\n",
              "    }\n",
              "</style>\n",
              "<table border=\"1\" class=\"dataframe\">\n",
              "  <thead>\n",
              "    <tr style=\"text-align: right;\">\n",
              "      <th></th>\n",
              "      <th>date</th>\n",
              "      <th>year</th>\n",
              "      <th>month</th>\n",
              "      <th>day</th>\n",
              "      <th>hour</th>\n",
              "      <th>minute</th>\n",
              "      <th>second</th>\n",
              "      <th>power apparent</th>\n",
              "      <th>power appliance</th>\n",
              "    </tr>\n",
              "  </thead>\n",
              "  <tbody>\n",
              "    <tr>\n",
              "      <th>0</th>\n",
              "      <td>2013-03-17 19:12:43.100000+00:00</td>\n",
              "      <td>2013</td>\n",
              "      <td>3</td>\n",
              "      <td>17</td>\n",
              "      <td>19</td>\n",
              "      <td>12</td>\n",
              "      <td>43</td>\n",
              "      <td>337.880005</td>\n",
              "      <td>0</td>\n",
              "    </tr>\n",
              "    <tr>\n",
              "      <th>1</th>\n",
              "      <td>2013-03-17 19:12:44.100000+00:00</td>\n",
              "      <td>2013</td>\n",
              "      <td>3</td>\n",
              "      <td>17</td>\n",
              "      <td>19</td>\n",
              "      <td>12</td>\n",
              "      <td>44</td>\n",
              "      <td>339.429993</td>\n",
              "      <td>0</td>\n",
              "    </tr>\n",
              "    <tr>\n",
              "      <th>2</th>\n",
              "      <td>2013-03-17 19:12:45.100000+00:00</td>\n",
              "      <td>2013</td>\n",
              "      <td>3</td>\n",
              "      <td>17</td>\n",
              "      <td>19</td>\n",
              "      <td>12</td>\n",
              "      <td>45</td>\n",
              "      <td>340.630005</td>\n",
              "      <td>0</td>\n",
              "    </tr>\n",
              "    <tr>\n",
              "      <th>3</th>\n",
              "      <td>2013-03-17 19:12:46.100000+00:00</td>\n",
              "      <td>2013</td>\n",
              "      <td>3</td>\n",
              "      <td>17</td>\n",
              "      <td>19</td>\n",
              "      <td>12</td>\n",
              "      <td>46</td>\n",
              "      <td>338.799988</td>\n",
              "      <td>0</td>\n",
              "    </tr>\n",
              "    <tr>\n",
              "      <th>4</th>\n",
              "      <td>2013-03-17 19:12:47.100000+00:00</td>\n",
              "      <td>2013</td>\n",
              "      <td>3</td>\n",
              "      <td>17</td>\n",
              "      <td>19</td>\n",
              "      <td>12</td>\n",
              "      <td>47</td>\n",
              "      <td>340.880005</td>\n",
              "      <td>0</td>\n",
              "    </tr>\n",
              "    <tr>\n",
              "      <th>5</th>\n",
              "      <td>2013-03-17 19:12:48.100000+00:00</td>\n",
              "      <td>2013</td>\n",
              "      <td>3</td>\n",
              "      <td>17</td>\n",
              "      <td>19</td>\n",
              "      <td>12</td>\n",
              "      <td>48</td>\n",
              "      <td>338.769989</td>\n",
              "      <td>0</td>\n",
              "    </tr>\n",
              "    <tr>\n",
              "      <th>6</th>\n",
              "      <td>2013-03-17 19:12:49.200000+00:00</td>\n",
              "      <td>2013</td>\n",
              "      <td>3</td>\n",
              "      <td>17</td>\n",
              "      <td>19</td>\n",
              "      <td>12</td>\n",
              "      <td>49</td>\n",
              "      <td>340.190002</td>\n",
              "      <td>0</td>\n",
              "    </tr>\n",
              "    <tr>\n",
              "      <th>7</th>\n",
              "      <td>2013-03-17 19:12:50.100000+00:00</td>\n",
              "      <td>2013</td>\n",
              "      <td>3</td>\n",
              "      <td>17</td>\n",
              "      <td>19</td>\n",
              "      <td>12</td>\n",
              "      <td>50</td>\n",
              "      <td>340.209991</td>\n",
              "      <td>0</td>\n",
              "    </tr>\n",
              "    <tr>\n",
              "      <th>8</th>\n",
              "      <td>2013-03-17 19:12:51.200000+00:00</td>\n",
              "      <td>2013</td>\n",
              "      <td>3</td>\n",
              "      <td>17</td>\n",
              "      <td>19</td>\n",
              "      <td>12</td>\n",
              "      <td>51</td>\n",
              "      <td>338.489990</td>\n",
              "      <td>0</td>\n",
              "    </tr>\n",
              "    <tr>\n",
              "      <th>9</th>\n",
              "      <td>2013-03-17 19:12:52.100000+00:00</td>\n",
              "      <td>2013</td>\n",
              "      <td>3</td>\n",
              "      <td>17</td>\n",
              "      <td>19</td>\n",
              "      <td>12</td>\n",
              "      <td>52</td>\n",
              "      <td>341.329987</td>\n",
              "      <td>0</td>\n",
              "    </tr>\n",
              "  </tbody>\n",
              "</table>\n",
              "</div>\n",
              "      <button class=\"colab-df-convert\" onclick=\"convertToInteractive('df-dfa47a30-4e4a-4624-9a71-400114c63518')\"\n",
              "              title=\"Convert this dataframe to an interactive table.\"\n",
              "              style=\"display:none;\">\n",
              "        \n",
              "  <svg xmlns=\"http://www.w3.org/2000/svg\" height=\"24px\"viewBox=\"0 0 24 24\"\n",
              "       width=\"24px\">\n",
              "    <path d=\"M0 0h24v24H0V0z\" fill=\"none\"/>\n",
              "    <path d=\"M18.56 5.44l.94 2.06.94-2.06 2.06-.94-2.06-.94-.94-2.06-.94 2.06-2.06.94zm-11 1L8.5 8.5l.94-2.06 2.06-.94-2.06-.94L8.5 2.5l-.94 2.06-2.06.94zm10 10l.94 2.06.94-2.06 2.06-.94-2.06-.94-.94-2.06-.94 2.06-2.06.94z\"/><path d=\"M17.41 7.96l-1.37-1.37c-.4-.4-.92-.59-1.43-.59-.52 0-1.04.2-1.43.59L10.3 9.45l-7.72 7.72c-.78.78-.78 2.05 0 2.83L4 21.41c.39.39.9.59 1.41.59.51 0 1.02-.2 1.41-.59l7.78-7.78 2.81-2.81c.8-.78.8-2.07 0-2.86zM5.41 20L4 18.59l7.72-7.72 1.47 1.35L5.41 20z\"/>\n",
              "  </svg>\n",
              "      </button>\n",
              "      \n",
              "  <style>\n",
              "    .colab-df-container {\n",
              "      display:flex;\n",
              "      flex-wrap:wrap;\n",
              "      gap: 12px;\n",
              "    }\n",
              "\n",
              "    .colab-df-convert {\n",
              "      background-color: #E8F0FE;\n",
              "      border: none;\n",
              "      border-radius: 50%;\n",
              "      cursor: pointer;\n",
              "      display: none;\n",
              "      fill: #1967D2;\n",
              "      height: 32px;\n",
              "      padding: 0 0 0 0;\n",
              "      width: 32px;\n",
              "    }\n",
              "\n",
              "    .colab-df-convert:hover {\n",
              "      background-color: #E2EBFA;\n",
              "      box-shadow: 0px 1px 2px rgba(60, 64, 67, 0.3), 0px 1px 3px 1px rgba(60, 64, 67, 0.15);\n",
              "      fill: #174EA6;\n",
              "    }\n",
              "\n",
              "    [theme=dark] .colab-df-convert {\n",
              "      background-color: #3B4455;\n",
              "      fill: #D2E3FC;\n",
              "    }\n",
              "\n",
              "    [theme=dark] .colab-df-convert:hover {\n",
              "      background-color: #434B5C;\n",
              "      box-shadow: 0px 1px 3px 1px rgba(0, 0, 0, 0.15);\n",
              "      filter: drop-shadow(0px 1px 2px rgba(0, 0, 0, 0.3));\n",
              "      fill: #FFFFFF;\n",
              "    }\n",
              "  </style>\n",
              "\n",
              "      <script>\n",
              "        const buttonEl =\n",
              "          document.querySelector('#df-dfa47a30-4e4a-4624-9a71-400114c63518 button.colab-df-convert');\n",
              "        buttonEl.style.display =\n",
              "          google.colab.kernel.accessAllowed ? 'block' : 'none';\n",
              "\n",
              "        async function convertToInteractive(key) {\n",
              "          const element = document.querySelector('#df-dfa47a30-4e4a-4624-9a71-400114c63518');\n",
              "          const dataTable =\n",
              "            await google.colab.kernel.invokeFunction('convertToInteractive',\n",
              "                                                     [key], {});\n",
              "          if (!dataTable) return;\n",
              "\n",
              "          const docLinkHtml = 'Like what you see? Visit the ' +\n",
              "            '<a target=\"_blank\" href=https://colab.research.google.com/notebooks/data_table.ipynb>data table notebook</a>'\n",
              "            + ' to learn more about interactive tables.';\n",
              "          element.innerHTML = '';\n",
              "          dataTable['output_type'] = 'display_data';\n",
              "          await google.colab.output.renderOutput(dataTable, element);\n",
              "          const docLink = document.createElement('div');\n",
              "          docLink.innerHTML = docLinkHtml;\n",
              "          element.appendChild(docLink);\n",
              "        }\n",
              "      </script>\n",
              "    </div>\n",
              "  </div>\n",
              "  "
            ]
          },
          "metadata": {},
          "execution_count": 51
        }
      ]
    },
    {
      "cell_type": "code",
      "source": [
        "appliance = df['power appliance'][:50].astype(int)\n",
        "apparent = df['power apparent'][:50].astype(int)\n",
        "time = df['date'][:50]\n",
        "\n",
        "fig, ax = plt.subplots()\n",
        "ax.plot(time, apparent, label=\"apparent\")\n",
        "ax.plot(time, appliance, label=\"appliance\")\n",
        "ax.legend()\n",
        "\n",
        "plt.show()"
      ],
      "metadata": {
        "colab": {
          "base_uri": "https://localhost:8080/",
          "height": 265
        },
        "id": "pmnVU3JHlsgj",
        "outputId": "02fb61f3-5207-4042-d588-f224ad890c7b"
      },
      "execution_count": 52,
      "outputs": [
        {
          "output_type": "display_data",
          "data": {
            "text/plain": [
              "<Figure size 432x288 with 1 Axes>"
            ],
            "image/png": "[encoded data removed]"
          },
          "metadata": {
            "needs_background": "light"
          }
        }
      ]
    },
    {
      "cell_type": "code",
      "source": [
        "fig, (ax1, ax2) = plt.subplots(2, 1)\n",
        "fig.suptitle('Sample from the data')\n",
        "\n",
        "ax1.plot(df['date'][:15], df['power apparent'][:15], 'o-')\n",
        "ax1.set_ylabel('power apparent')\n",
        "\n",
        "ax2.plot(df['date'][:15], df['power appliance'][:15].astype(str), 'o-')\n",
        "ax2.set_xlabel('time (s)')\n",
        "ax2.set_ylabel('power appliance')\n",
        "\n",
        "plt.show()"
      ],
      "metadata": {
        "colab": {
          "base_uri": "https://localhost:8080/",
          "height": 308
        },
        "id": "MCGGmK6fl1MJ",
        "outputId": "bc45a7eb-98bd-4222-d326-affdef9bb123"
      },
      "execution_count": 53,
      "outputs": [
        {
          "output_type": "display_data",
          "data": {
            "text/plain": [
              "<Figure size 432x288 with 2 Axes>"
            ],
            "image/png": "[encoded data removed]"
          },
          "metadata": {
            "needs_background": "light"
          }
        }
      ]
    },
    {
      "cell_type": "code",
      "source": [
        "def min_to_sec_data(value1, value2):\n",
        "    \n",
        "    diff = (value2-value1)/60\n",
        "    val = value1\n",
        "    points = [value1]\n",
        "    \n",
        "    for i in range(60):\n",
        "        val += diff#(diff/60)*i\n",
        "        points.append(val)\n",
        "    return points\n"
      ],
      "metadata": {
        "id": "F1Twp_Pdl6cY"
      },
      "execution_count": 54,
      "outputs": []
    },
    {
      "cell_type": "code",
      "source": [
        "mainchunk.values\n",
        "uppsampled_mainchunks = []\n",
        "\n",
        "for i in range(0,len(mainchunk.values)-1,2):\n",
        "    uppsampled_mainchunks.append(min_to_sec_data(mainchunk.values[i],mainchunk.values[i+1]))"
      ],
      "metadata": {
        "id": "b-XbxLMVmH5R"
      },
      "execution_count": 55,
      "outputs": []
    },
    {
      "cell_type": "code",
      "source": [
        "uppsampled_mainchunks = np.array(uppsampled_mainchunks)"
      ],
      "metadata": {
        "id": "ngTDEf_VmS7E"
      },
      "execution_count": 56,
      "outputs": []
    },
    {
      "cell_type": "code",
      "source": [
        "uppsampled_mainchunks = np.reshape(uppsampled_mainchunks, (uppsampled_mainchunks.shape[0]*uppsampled_mainchunks.shape[1],1))\n",
        "uppsampled_mainchunks"
      ],
      "metadata": {
        "colab": {
          "base_uri": "https://localhost:8080/"
        },
        "id": "rE20EoYomZIh",
        "outputId": "93369ffe-cee4-476d-ea67-cb5bebd2835a"
      },
      "execution_count": 57,
      "outputs": [
        {
          "output_type": "execute_result",
          "data": {
            "text/plain": [
              "array([[337.88000488],\n",
              "       [337.90583801],\n",
              "       [337.93167114],\n",
              "       ...,\n",
              "       [205.8536672 ],\n",
              "       [205.8568339 ],\n",
              "       [205.86000061]])"
            ]
          },
          "metadata": {},
          "execution_count": 57
        }
      ]
    },
    {
      "cell_type": "code",
      "source": [
        "print(uppsampled_mainchunks.shape)"
      ],
      "metadata": {
        "colab": {
          "base_uri": "https://localhost:8080/"
        },
        "id": "SKJ94vsMmf6Z",
        "outputId": "e53c0ff4-72ab-47a0-99d1-ca1076075d83"
      },
      "execution_count": 58,
      "outputs": [
        {
          "output_type": "stream",
          "name": "stdout",
          "text": [
            "(110814247, 1)\n"
          ]
        }
      ]
    },
    {
      "cell_type": "code",
      "source": [
        "import numpy as np\n",
        "from numpy.lib.stride_tricks import as_strided\n",
        "\n",
        "def local_mean_range(P):\n",
        "    d = np.array(P)\n",
        "\n",
        "    consec = 3\n",
        "    offset = 0\n",
        "    nsub = 1\n",
        "    pace = 1\n",
        "\n",
        "    s = d.strides[0]\n",
        "    ngroups= (d.shape[0] - (consec + (nsub-1)*offset - 1))//pace\n",
        "    a = as_strided(d, shape=(ngroups, nsub, consec),\n",
        "                   strides=(pace*s, offset*s, 1*s))\n",
        "\n",
        "    local_mean = a.mean(axis=-1).mean(axis=-1)\n",
        "    return local_mean[0]\n",
        "\n",
        "def deviation_range(P):\n",
        "    return np.std(P)\n",
        "\n",
        "mean = local_mean_range(P=[10,5,5])\n",
        "dev  = deviation_range(P=[10,5,5])\n",
        "\n",
        "def event_detected(P):\n",
        "    detected = True\n",
        "    \n",
        "    return detected\n",
        "\n",
        "print(\"Computing for [10,5,5]\\n\")\n",
        "print('local mean\\t   deviation\\t\\tvariance\\t\\taverage')\n",
        "print(mean, dev, np.var([10,5,5]), np.average([10,5,5]))"
      ],
      "metadata": {
        "colab": {
          "base_uri": "https://localhost:8080/"
        },
        "id": "oGydx2VommcB",
        "outputId": "6974c717-1c22-4c79-e901-abe88fad776d"
      },
      "execution_count": 59,
      "outputs": [
        {
          "output_type": "stream",
          "name": "stdout",
          "text": [
            "Computing for [10,5,5]\n",
            "\n",
            "local mean\t   deviation\t\tvariance\t\taverage\n",
            "6.666666666666667 2.357022603955158 5.5555555555555545 6.666666666666667\n"
          ]
        }
      ]
    },
    {
      "cell_type": "code",
      "source": [
        "def three_point_method(P, P_s=[]):\n",
        "    \"\"\"\n",
        "    three point method which will be applied on the dataset alongside the reconstruct_P\n",
        "    \"\"\"\n",
        "    P_bar  =  np.average(P)\n",
        "    teta_p =  deviation_range(P)\n",
        "    teta_g = deviation_range(P)\n",
        "    \n",
        "    try:\n",
        "        ps_previous = P_s[-1]\n",
        "    except:\n",
        "        ps_previous = 0\n",
        "    \n",
        "    if teta_p > teta_g:\n",
        "        P_s.append(ps_previous)\n",
        "    else:\n",
        "        P_s.append(P_bar)\n",
        "        \n",
        "    return P_s\n",
        "\n",
        "def reconstruct_P(P, P_s=[0,0], T_q=[0,0],t='',P_events=[], N_events=[]):\n",
        "    \"\"\"\n",
        "    P is our three points which are needed to calculate the deviation\n",
        "    P_s is the cleaned new signal\n",
        "    T_q is the new array that will contain the q events\n",
        "    t is the time at which the event started\n",
        "    \"\"\"\n",
        "    Event_Detected = False\n",
        "    \n",
        "    teta_g = deviation_range(P)\n",
        "    try:\n",
        "        delta_Ps = P_s[-1] - P_s[-2]\n",
        "    except:\n",
        "        if P_s[-1]:\n",
        "            delta_Ps = P_s[-1]\n",
        "        else:\n",
        "            delta_Ps =0\n",
        "    \n",
        "    if delta_Ps>=teta_g:\n",
        "        T_q.append(t)\n",
        "        Event_Detected = True\n",
        "        \n",
        "        \n",
        "    P_events.append(0)\n",
        "    N_events.append(0)\n",
        "    \n",
        "    if delta_Ps>0:\n",
        "        P_events[-1] = P_s[-1]\n",
        "    elif delta_Ps<0:\n",
        "        N_events[-1] = P_s[-1]\n",
        "        \n",
        "    return T_q, P_events, N_events"
      ],
      "metadata": {
        "id": "-K8cjxmhmo9a"
      },
      "execution_count": 60,
      "outputs": []
    },
    {
      "cell_type": "code",
      "source": [
        "from tqdm import tqdm\n",
        "T_q = [df['date'][0]]\n",
        "P_events, N_events = [],[]\n",
        "P_s = []\n",
        "\n",
        "for i in tqdm(range(0, len(df['power appliance']))):\n",
        "    \n",
        "    P = df['power appliance'][i:i+3].astype(float).values\n",
        "    \n",
        "    # Applying the three points method\n",
        "    P_s = three_point_method(P, P_s)\n",
        "    \n",
        "    # Getting the event data\n",
        "    T_q, P_events, N_events = reconstruct_P(P, P_s, T_q=T_q,t=df['date'][i],P_events=P_events, N_events=N_events)\n",
        "    "
      ],
      "metadata": {
        "colab": {
          "base_uri": "https://localhost:8080/"
        },
        "id": "XCJAwVIZmvVm",
        "outputId": "9ef6126e-faca-480b-8325-98f533d3b94d"
      },
      "execution_count": 61,
      "outputs": [
        {
          "output_type": "stream",
          "name": "stderr",
          "text": [
            "100%|██████████| 3633254/3633254 [21:25<00:00, 2827.21it/s]\n"
          ]
        }
      ]
    },
    {
      "cell_type": "code",
      "source": [
        "appliance = P_s\n",
        "time = df['date'][:50]\n",
        "\n",
        "fig, ax = plt.subplots()\n",
        "ax.plot(df['date'], P_s, label=\"new signal\")\n",
        "ax.legend()\n",
        "\n",
        "plt.show()"
      ],
      "metadata": {
        "colab": {
          "base_uri": "https://localhost:8080/",
          "height": 265
        },
        "id": "O-7gC2v0sjIx",
        "outputId": "c6409fcd-65db-403e-a084-458173a4774e"
      },
      "execution_count": 62,
      "outputs": [
        {
          "output_type": "display_data",
          "data": {
            "text/plain": [
              "<Figure size 432x288 with 1 Axes>"
            ],
            "image/png": "[encoded data removed]"
          },
          "metadata": {
            "needs_background": "light"
          }
        }
      ]
    },
    {
      "cell_type": "code",
      "source": [
        "appliance = P_s\n",
        "time = df['date'][:50]\n",
        "\n",
        "fig, ax = plt.subplots()\n",
        "\n",
        "ax.plot(df['date'], df['power appliance'].astype(str), label=\"old signal\")\n",
        "\n",
        "ax.plot(df['date'], P_s, label=\"new signal\")\n",
        "\n",
        "ax.legend()\n",
        "\n",
        "plt.show()"
      ],
      "metadata": {
        "colab": {
          "base_uri": "https://localhost:8080/",
          "height": 265
        },
        "id": "sC8MNdLess_X",
        "outputId": "5df95588-f4bb-42a1-a9c3-2982c64afd01"
      },
      "execution_count": 63,
      "outputs": [
        {
          "output_type": "display_data",
          "data": {
            "text/plain": [
              "<Figure size 432x288 with 1 Axes>"
            ],
            "image/png": "[encoded data removed]"
          },
          "metadata": {
            "needs_background": "light"
          }
        }
      ]
    },
    {
      "cell_type": "code",
      "source": [
        "appliance = P_s\n",
        "time = df['date'][:50]\n",
        "\n",
        "P_string = np.array(P_s)#.dtype(np.int32)      # 32-bit integer\n",
        "print(P_string)\n",
        "fig, ax = plt.subplots()\n",
        "\n",
        "ax.plot(df['date'], df['power appliance'].astype(str), label=\"old signal\")\n",
        "#ax.plot(df['date'][0:15], P_string[0:15], label=\"new signal\")\n",
        "ax.plot(df['date'], P_s, label=\"new signal\")\n",
        "\n",
        "\n",
        "ax.legend()\n",
        "\n",
        "plt.show()"
      ],
      "metadata": {
        "colab": {
          "base_uri": "https://localhost:8080/",
          "height": 282
        },
        "id": "7QA7LBiys8Le",
        "outputId": "17931510-a005-46cb-d7d5-3db26d1683ec"
      },
      "execution_count": 64,
      "outputs": [
        {
          "output_type": "stream",
          "name": "stdout",
          "text": [
            "[0. 0. 0. ... 0. 0. 0.]\n"
          ]
        },
        {
          "output_type": "display_data",
          "data": {
            "text/plain": [
              "<Figure size 432x288 with 1 Axes>"
            ],
            "image/png": "[encoded data removed]"
          },
          "metadata": {
            "needs_background": "light"
          }
        }
      ]
    },
    {
      "cell_type": "code",
      "source": [
        "print(np.shape(P_s))\n",
        "print(np.shape(T_q))"
      ],
      "metadata": {
        "colab": {
          "base_uri": "https://localhost:8080/"
        },
        "id": "1f9eTT4btFgm",
        "outputId": "16230412-0200-40d1-86ed-9ff0e20eba02"
      },
      "execution_count": 65,
      "outputs": [
        {
          "output_type": "stream",
          "name": "stdout",
          "text": [
            "(3633254,)\n",
            "(3425063,)\n"
          ]
        }
      ]
    },
    {
      "cell_type": "code",
      "source": [
        "appliance = P_s\n",
        "time = df['date'][:50]\n",
        "\n",
        "#df_temp = pd.DataFrame(np.array(T_q[:50]), columns=list('abc'))\n",
        "# pd.to_datetime(T_q[:50].datetime)\n",
        "\n",
        "fig, ax = plt.subplots()\n",
        "\n",
        "plt.axvline(T_q[0], color='red', label=\"T(q)\")\n",
        "\n",
        "for i in range(1,25):\n",
        "    plt.axvline(T_q[i], color='red')\n",
        "    \n",
        "ax.plot(df['date'][:25], df['power appliance'][:25].astype(str), label=\"old signal\")\n",
        "\n",
        "ax.plot(df['date'][:25], P_s[:25], label=\"Ps(t)\")\n",
        "ax.plot(df['date'][:25], P_events[:25], label=\"Positive evenets\")\n",
        "\n",
        "\n",
        "\n",
        "\n",
        "\n",
        "    \n",
        "ax.legend()\n",
        "\n",
        "plt.show()"
      ],
      "metadata": {
        "colab": {
          "base_uri": "https://localhost:8080/",
          "height": 265
        },
        "id": "LYX4691atMYd",
        "outputId": "8ca209d5-75ae-468c-9ece-37314f32c8b3"
      },
      "execution_count": 66,
      "outputs": [
        {
          "output_type": "display_data",
          "data": {
            "text/plain": [
              "<Figure size 432x288 with 1 Axes>"
            ],
            "image/png": "[encoded data removed]"
          },
          "metadata": {
            "needs_background": "light"
          }
        }
      ]
    },
    {
      "cell_type": "code",
      "source": [
        "df['new signal'] = np.array(P_s)#.to_frame()  P_events  positive events"
      ],
      "metadata": {
        "id": "FoMkusDhtUeQ"
      },
      "execution_count": 67,
      "outputs": []
    },
    {
      "cell_type": "code",
      "source": [
        "df.head(10)"
      ],
      "metadata": {
        "colab": {
          "base_uri": "https://localhost:8080/",
          "height": 363
        },
        "id": "M_rGgMNOtWK_",
        "outputId": "9c442f60-2ed1-4412-ecd3-dbc436600651"
      },
      "execution_count": 68,
      "outputs": [
        {
          "output_type": "execute_result",
          "data": {
            "text/plain": [
              "                              date  year  month  day  hour  minute  second  \\\n",
              "0 2013-03-17 19:12:43.100000+00:00  2013      3   17    19      12      43   \n",
              "1 2013-03-17 19:12:44.100000+00:00  2013      3   17    19      12      44   \n",
              "2 2013-03-17 19:12:45.100000+00:00  2013      3   17    19      12      45   \n",
              "3 2013-03-17 19:12:46.100000+00:00  2013      3   17    19      12      46   \n",
              "4 2013-03-17 19:12:47.100000+00:00  2013      3   17    19      12      47   \n",
              "5 2013-03-17 19:12:48.100000+00:00  2013      3   17    19      12      48   \n",
              "6 2013-03-17 19:12:49.200000+00:00  2013      3   17    19      12      49   \n",
              "7 2013-03-17 19:12:50.100000+00:00  2013      3   17    19      12      50   \n",
              "8 2013-03-17 19:12:51.200000+00:00  2013      3   17    19      12      51   \n",
              "9 2013-03-17 19:12:52.100000+00:00  2013      3   17    19      12      52   \n",
              "\n",
              "   power apparent power appliance  new signal  \n",
              "0      337.880005               0         0.0  \n",
              "1      339.429993               0         0.0  \n",
              "2      340.630005               0         0.0  \n",
              "3      338.799988               0         0.0  \n",
              "4      340.880005               0         0.0  \n",
              "5      338.769989               0         0.0  \n",
              "6      340.190002               0         0.0  \n",
              "7      340.209991               0         0.0  \n",
              "8      338.489990               0         0.0  \n",
              "9      341.329987               0         0.0  "
            ],
            "text/html": [
              "\n",
              "  <div id=\"df-4e774cba-21af-4d62-86b9-70d73cf12be4\">\n",
              "    <div class=\"colab-df-container\">\n",
              "      <div>\n",
              "<style scoped>\n",
              "    .dataframe tbody tr th:only-of-type {\n",
              "        vertical-align: middle;\n",
              "    }\n",
              "\n",
              "    .dataframe tbody tr th {\n",
              "        vertical-align: top;\n",
              "    }\n",
              "\n",
              "    .dataframe thead th {\n",
              "        text-align: right;\n",
              "    }\n",
              "</style>\n",
              "<table border=\"1\" class=\"dataframe\">\n",
              "  <thead>\n",
              "    <tr style=\"text-align: right;\">\n",
              "      <th></th>\n",
              "      <th>date</th>\n",
              "      <th>year</th>\n",
              "      <th>month</th>\n",
              "      <th>day</th>\n",
              "      <th>hour</th>\n",
              "      <th>minute</th>\n",
              "      <th>second</th>\n",
              "      <th>power apparent</th>\n",
              "      <th>power appliance</th>\n",
              "      <th>new signal</th>\n",
              "    </tr>\n",
              "  </thead>\n",
              "  <tbody>\n",
              "    <tr>\n",
              "      <th>0</th>\n",
              "      <td>2013-03-17 19:12:43.100000+00:00</td>\n",
              "      <td>2013</td>\n",
              "      <td>3</td>\n",
              "      <td>17</td>\n",
              "      <td>19</td>\n",
              "      <td>12</td>\n",
              "      <td>43</td>\n",
              "      <td>337.880005</td>\n",
              "      <td>0</td>\n",
              "      <td>0.0</td>\n",
              "    </tr>\n",
              "    <tr>\n",
              "      <th>1</th>\n",
              "      <td>2013-03-17 19:12:44.100000+00:00</td>\n",
              "      <td>2013</td>\n",
              "      <td>3</td>\n",
              "      <td>17</td>\n",
              "      <td>19</td>\n",
              "      <td>12</td>\n",
              "      <td>44</td>\n",
              "      <td>339.429993</td>\n",
              "      <td>0</td>\n",
              "      <td>0.0</td>\n",
              "    </tr>\n",
              "    <tr>\n",
              "      <th>2</th>\n",
              "      <td>2013-03-17 19:12:45.100000+00:00</td>\n",
              "      <td>2013</td>\n",
              "      <td>3</td>\n",
              "      <td>17</td>\n",
              "      <td>19</td>\n",
              "      <td>12</td>\n",
              "      <td>45</td>\n",
              "      <td>340.630005</td>\n",
              "      <td>0</td>\n",
              "      <td>0.0</td>\n",
              "    </tr>\n",
              "    <tr>\n",
              "      <th>3</th>\n",
              "      <td>2013-03-17 19:12:46.100000+00:00</td>\n",
              "      <td>2013</td>\n",
              "      <td>3</td>\n",
              "      <td>17</td>\n",
              "      <td>19</td>\n",
              "      <td>12</td>\n",
              "      <td>46</td>\n",
              "      <td>338.799988</td>\n",
              "      <td>0</td>\n",
              "      <td>0.0</td>\n",
              "    </tr>\n",
              "    <tr>\n",
              "      <th>4</th>\n",
              "      <td>2013-03-17 19:12:47.100000+00:00</td>\n",
              "      <td>2013</td>\n",
              "      <td>3</td>\n",
              "      <td>17</td>\n",
              "      <td>19</td>\n",
              "      <td>12</td>\n",
              "      <td>47</td>\n",
              "      <td>340.880005</td>\n",
              "      <td>0</td>\n",
              "      <td>0.0</td>\n",
              "    </tr>\n",
              "    <tr>\n",
              "      <th>5</th>\n",
              "      <td>2013-03-17 19:12:48.100000+00:00</td>\n",
              "      <td>2013</td>\n",
              "      <td>3</td>\n",
              "      <td>17</td>\n",
              "      <td>19</td>\n",
              "      <td>12</td>\n",
              "      <td>48</td>\n",
              "      <td>338.769989</td>\n",
              "      <td>0</td>\n",
              "      <td>0.0</td>\n",
              "    </tr>\n",
              "    <tr>\n",
              "      <th>6</th>\n",
              "      <td>2013-03-17 19:12:49.200000+00:00</td>\n",
              "      <td>2013</td>\n",
              "      <td>3</td>\n",
              "      <td>17</td>\n",
              "      <td>19</td>\n",
              "      <td>12</td>\n",
              "      <td>49</td>\n",
              "      <td>340.190002</td>\n",
              "      <td>0</td>\n",
              "      <td>0.0</td>\n",
              "    </tr>\n",
              "    <tr>\n",
              "      <th>7</th>\n",
              "      <td>2013-03-17 19:12:50.100000+00:00</td>\n",
              "      <td>2013</td>\n",
              "      <td>3</td>\n",
              "      <td>17</td>\n",
              "      <td>19</td>\n",
              "      <td>12</td>\n",
              "      <td>50</td>\n",
              "      <td>340.209991</td>\n",
              "      <td>0</td>\n",
              "      <td>0.0</td>\n",
              "    </tr>\n",
              "    <tr>\n",
              "      <th>8</th>\n",
              "      <td>2013-03-17 19:12:51.200000+00:00</td>\n",
              "      <td>2013</td>\n",
              "      <td>3</td>\n",
              "      <td>17</td>\n",
              "      <td>19</td>\n",
              "      <td>12</td>\n",
              "      <td>51</td>\n",
              "      <td>338.489990</td>\n",
              "      <td>0</td>\n",
              "      <td>0.0</td>\n",
              "    </tr>\n",
              "    <tr>\n",
              "      <th>9</th>\n",
              "      <td>2013-03-17 19:12:52.100000+00:00</td>\n",
              "      <td>2013</td>\n",
              "      <td>3</td>\n",
              "      <td>17</td>\n",
              "      <td>19</td>\n",
              "      <td>12</td>\n",
              "      <td>52</td>\n",
              "      <td>341.329987</td>\n",
              "      <td>0</td>\n",
              "      <td>0.0</td>\n",
              "    </tr>\n",
              "  </tbody>\n",
              "</table>\n",
              "</div>\n",
              "      <button class=\"colab-df-convert\" onclick=\"convertToInteractive('df-4e774cba-21af-4d62-86b9-70d73cf12be4')\"\n",
              "              title=\"Convert this dataframe to an interactive table.\"\n",
              "              style=\"display:none;\">\n",
              "        \n",
              "  <svg xmlns=\"http://www.w3.org/2000/svg\" height=\"24px\"viewBox=\"0 0 24 24\"\n",
              "       width=\"24px\">\n",
              "    <path d=\"M0 0h24v24H0V0z\" fill=\"none\"/>\n",
              "    <path d=\"M18.56 5.44l.94 2.06.94-2.06 2.06-.94-2.06-.94-.94-2.06-.94 2.06-2.06.94zm-11 1L8.5 8.5l.94-2.06 2.06-.94-2.06-.94L8.5 2.5l-.94 2.06-2.06.94zm10 10l.94 2.06.94-2.06 2.06-.94-2.06-.94-.94-2.06-.94 2.06-2.06.94z\"/><path d=\"M17.41 7.96l-1.37-1.37c-.4-.4-.92-.59-1.43-.59-.52 0-1.04.2-1.43.59L10.3 9.45l-7.72 7.72c-.78.78-.78 2.05 0 2.83L4 21.41c.39.39.9.59 1.41.59.51 0 1.02-.2 1.41-.59l7.78-7.78 2.81-2.81c.8-.78.8-2.07 0-2.86zM5.41 20L4 18.59l7.72-7.72 1.47 1.35L5.41 20z\"/>\n",
              "  </svg>\n",
              "      </button>\n",
              "      \n",
              "  <style>\n",
              "    .colab-df-container {\n",
              "      display:flex;\n",
              "      flex-wrap:wrap;\n",
              "      gap: 12px;\n",
              "    }\n",
              "\n",
              "    .colab-df-convert {\n",
              "      background-color: #E8F0FE;\n",
              "      border: none;\n",
              "      border-radius: 50%;\n",
              "      cursor: pointer;\n",
              "      display: none;\n",
              "      fill: #1967D2;\n",
              "      height: 32px;\n",
              "      padding: 0 0 0 0;\n",
              "      width: 32px;\n",
              "    }\n",
              "\n",
              "    .colab-df-convert:hover {\n",
              "      background-color: #E2EBFA;\n",
              "      box-shadow: 0px 1px 2px rgba(60, 64, 67, 0.3), 0px 1px 3px 1px rgba(60, 64, 67, 0.15);\n",
              "      fill: #174EA6;\n",
              "    }\n",
              "\n",
              "    [theme=dark] .colab-df-convert {\n",
              "      background-color: #3B4455;\n",
              "      fill: #D2E3FC;\n",
              "    }\n",
              "\n",
              "    [theme=dark] .colab-df-convert:hover {\n",
              "      background-color: #434B5C;\n",
              "      box-shadow: 0px 1px 3px 1px rgba(0, 0, 0, 0.15);\n",
              "      filter: drop-shadow(0px 1px 2px rgba(0, 0, 0, 0.3));\n",
              "      fill: #FFFFFF;\n",
              "    }\n",
              "  </style>\n",
              "\n",
              "      <script>\n",
              "        const buttonEl =\n",
              "          document.querySelector('#df-4e774cba-21af-4d62-86b9-70d73cf12be4 button.colab-df-convert');\n",
              "        buttonEl.style.display =\n",
              "          google.colab.kernel.accessAllowed ? 'block' : 'none';\n",
              "\n",
              "        async function convertToInteractive(key) {\n",
              "          const element = document.querySelector('#df-4e774cba-21af-4d62-86b9-70d73cf12be4');\n",
              "          const dataTable =\n",
              "            await google.colab.kernel.invokeFunction('convertToInteractive',\n",
              "                                                     [key], {});\n",
              "          if (!dataTable) return;\n",
              "\n",
              "          const docLinkHtml = 'Like what you see? Visit the ' +\n",
              "            '<a target=\"_blank\" href=https://colab.research.google.com/notebooks/data_table.ipynb>data table notebook</a>'\n",
              "            + ' to learn more about interactive tables.';\n",
              "          element.innerHTML = '';\n",
              "          dataTable['output_type'] = 'display_data';\n",
              "          await google.colab.output.renderOutput(dataTable, element);\n",
              "          const docLink = document.createElement('div');\n",
              "          docLink.innerHTML = docLinkHtml;\n",
              "          element.appendChild(docLink);\n",
              "        }\n",
              "      </script>\n",
              "    </div>\n",
              "  </div>\n",
              "  "
            ]
          },
          "metadata": {},
          "execution_count": 68
        }
      ]
    },
    {
      "cell_type": "code",
      "source": [
        "df_clust = df['new signal'].to_frame()\n",
        "df_clust['power apparent'] = df['power apparent'] \n",
        "\n",
        "X = df_clust.values\n",
        "X"
      ],
      "metadata": {
        "colab": {
          "base_uri": "https://localhost:8080/"
        },
        "id": "AJAno45NtdZo",
        "outputId": "8d39cf8f-d500-4bd1-c497-d00df8ed6f16"
      },
      "execution_count": 69,
      "outputs": [
        {
          "output_type": "execute_result",
          "data": {
            "text/plain": [
              "array([[  0.        , 337.88000488],\n",
              "       [  0.        , 339.42999268],\n",
              "       [  0.        , 340.63000488],\n",
              "       ...,\n",
              "       [  0.        , 206.07000732],\n",
              "       [  0.        , 205.66999817],\n",
              "       [  0.        , 205.86000061]])"
            ]
          },
          "metadata": {},
          "execution_count": 69
        }
      ]
    },
    {
      "cell_type": "code",
      "source": [
        "from sklearn.preprocessing import StandardScaler\n",
        "sc = StandardScaler()\n",
        "X = sc.fit_transform(X)"
      ],
      "metadata": {
        "id": "gb5WBUa-tkaS"
      },
      "execution_count": 70,
      "outputs": []
    },
    {
      "cell_type": "code",
      "source": [
        "from sklearn.cluster import KMeans\n",
        "wcss = []\n",
        "for i in range(1, 11):\n",
        "    kmeans = KMeans(n_clusters = i, init = 'k-means++', random_state = 42)\n",
        "    kmeans.fit(X)\n",
        "    wcss.append(kmeans.inertia_)\n",
        "plt.plot(range(1, 11), wcss)\n",
        "plt.title('The Elbow Method')\n",
        "plt.xlabel('Number of clusters')\n",
        "plt.ylabel('WCSS')\n",
        "plt.show()"
      ],
      "metadata": {
        "colab": {
          "base_uri": "https://localhost:8080/",
          "height": 295
        },
        "id": "81EDEghUtoKe",
        "outputId": "12873070-1130-4f5c-992b-351514ab8222"
      },
      "execution_count": 71,
      "outputs": [
        {
          "output_type": "display_data",
          "data": {
            "text/plain": [
              "<Figure size 432x288 with 1 Axes>"
            ],
            "image/png": "[encoded data removed]"
          },
          "metadata": {
            "needs_background": "light"
          }
        }
      ]
    },
    {
      "cell_type": "code",
      "source": [
        "kmeans = KMeans(n_clusters = 3, init = 'k-means++', random_state = 42)\n",
        "y_kmeans = kmeans.fit_predict(X)"
      ],
      "metadata": {
        "id": "TPjczPltuZqS"
      },
      "execution_count": 72,
      "outputs": []
    },
    {
      "cell_type": "code",
      "source": [
        "plt.scatter(X[y_kmeans == 0, 0], X[y_kmeans == 0, 1], s = 100, c = 'red', label = 'Cluster 1')\n",
        "plt.scatter(X[y_kmeans == 1, 0], X[y_kmeans == 1, 1], s = 100, c = 'blue', label = 'Cluster 2')\n",
        "plt.scatter(X[y_kmeans == 2, 0], X[y_kmeans == 2, 1], s = 100, c = 'green', label = 'Cluster 3')\n",
        "plt.scatter(kmeans.cluster_centers_[:, 0], kmeans.cluster_centers_[:, 1], s = 300, c = 'cyan', label = 'Centroids')\n",
        "plt.title('Clusters of operations modes')\n",
        "plt.xlabel('Total Power')\n",
        "plt.ylabel('Appliance Power')\n",
        "plt.legend()\n",
        "plt.show()"
      ],
      "metadata": {
        "colab": {
          "base_uri": "https://localhost:8080/",
          "height": 295
        },
        "id": "9ea41zVtugNf",
        "outputId": "ba7cbe68-d7fc-4cf2-9a86-a8c1289f8264"
      },
      "execution_count": 73,
      "outputs": [
        {
          "output_type": "display_data",
          "data": {
            "text/plain": [
              "<Figure size 432x288 with 1 Axes>"
            ],
            "image/png": "[encoded data removed]"
          },
          "metadata": {
            "needs_background": "light"
          }
        }
      ]
    },
    {
      "cell_type": "code",
      "source": [
        "plt.scatter(X[y_kmeans == 0, 0], X[y_kmeans == 0, 1], s = 100, c = 'red', label = 'Cluster 1')\n",
        "plt.scatter(X[y_kmeans == 1, 0], X[y_kmeans == 1, 1], s = 100, c = 'blue', label = 'Cluster 2')\n",
        "plt.scatter(X[y_kmeans == 2, 0], X[y_kmeans == 2, 1], s = 100, c = 'green', label = 'Cluster 3')\n",
        "plt.scatter(kmeans.cluster_centers_[:, 0], kmeans.cluster_centers_[:, 1], s = 300, c = 'cyan', label = 'Centroids')\n",
        "plt.title('Clusters of operations modes')\n",
        "plt.xlabel('Total Power')\n",
        "plt.ylabel('Appliance Power')\n",
        "plt.legend()\n",
        "plt.show()"
      ],
      "metadata": {
        "colab": {
          "base_uri": "https://localhost:8080/",
          "height": 295
        },
        "id": "9hYVvtTzuziA",
        "outputId": "ff633766-e452-45af-baae-b013e90ffee8"
      },
      "execution_count": 74,
      "outputs": [
        {
          "output_type": "display_data",
          "data": {
            "text/plain": [
              "<Figure size 432x288 with 1 Axes>"
            ],
            "image/png": "[encoded data removed]"
          },
          "metadata": {
            "needs_background": "light"
          }
        }
      ]
    }
  ]
}